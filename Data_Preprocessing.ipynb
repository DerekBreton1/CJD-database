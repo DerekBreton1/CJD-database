{
 "cells": [
  {
   "cell_type": "raw",
   "id": "54af40c9",
   "metadata": {},
   "source": [
    "Before doing any processing, you can upload your .tsv file of read anonymized data as 'Variant'\n",
    "\n",
    "It is important that you upload your data in this order: Variant, Patient, Patient_Var_data, Annotations"
   ]
  },
  {
   "cell_type": "code",
   "execution_count": null,
   "id": "56430cef",
   "metadata": {},
   "outputs": [],
   "source": [
    "import pandas as pd\n",
    "\n",
    "# Read the TSV file into a pandas DataFrame\n",
    "tsv_file = 'normalized_samples_ID.tsv'\n",
    "df = pd.read_csv(tsv_file, sep='\\t')"
   ]
  },
  {
   "cell_type": "code",
   "execution_count": 27,
   "id": "0696d4a3",
   "metadata": {},
   "outputs": [],
   "source": [
    "patient_data_subset = df.iloc[:, [2]]\n",
    "patient_data_subset = pd.concat([patient_data_subset, df.iloc[:, 28:]], axis=1)\n",
    "pds = patient_data_subset"
   ]
  },
  {
   "cell_type": "code",
   "execution_count": 28,
   "id": "61450721",
   "metadata": {},
   "outputs": [
    {
     "data": {
      "text/html": [
       "<div>\n",
       "<style scoped>\n",
       "    .dataframe tbody tr th:only-of-type {\n",
       "        vertical-align: middle;\n",
       "    }\n",
       "\n",
       "    .dataframe tbody tr th {\n",
       "        vertical-align: top;\n",
       "    }\n",
       "\n",
       "    .dataframe thead th {\n",
       "        text-align: right;\n",
       "    }\n",
       "</style>\n",
       "<table border=\"1\" class=\"dataframe\">\n",
       "  <thead>\n",
       "    <tr style=\"text-align: right;\">\n",
       "      <th></th>\n",
       "      <th>ID</th>\n",
       "      <th>BOSTON_CJD10_CJD10.GT</th>\n",
       "      <th>BOSTON_CJD10_CJD10.AD</th>\n",
       "      <th>BOSTON_CJD10_CJD10.DP</th>\n",
       "      <th>BOSTON_CJD10_CJD10.GQ</th>\n",
       "      <th>BOSTON_CJD10_CJD10.MIN_DP</th>\n",
       "      <th>BOSTON_CJD10_CJD10.PGT</th>\n",
       "      <th>BOSTON_CJD10_CJD10.PID</th>\n",
       "      <th>BOSTON_CJD10_CJD10.PL</th>\n",
       "      <th>BOSTON_CJD10_CJD10.PS</th>\n",
       "      <th>...</th>\n",
       "      <th>BOSTON_CJD9_CJD9.AD</th>\n",
       "      <th>BOSTON_CJD9_CJD9.DP</th>\n",
       "      <th>BOSTON_CJD9_CJD9.GQ</th>\n",
       "      <th>BOSTON_CJD9_CJD9.MIN_DP</th>\n",
       "      <th>BOSTON_CJD9_CJD9.PGT</th>\n",
       "      <th>BOSTON_CJD9_CJD9.PID</th>\n",
       "      <th>BOSTON_CJD9_CJD9.PL</th>\n",
       "      <th>BOSTON_CJD9_CJD9.PS</th>\n",
       "      <th>BOSTON_CJD9_CJD9.RGQ</th>\n",
       "      <th>BOSTON_CJD9_CJD9.SB</th>\n",
       "    </tr>\n",
       "  </thead>\n",
       "  <tbody>\n",
       "    <tr>\n",
       "      <th>0</th>\n",
       "      <td>rs375757231;rs60722469</td>\n",
       "      <td>C/C</td>\n",
       "      <td>19,0</td>\n",
       "      <td>19.0</td>\n",
       "      <td>27.0</td>\n",
       "      <td>NaN</td>\n",
       "      <td>NaN</td>\n",
       "      <td>NaN</td>\n",
       "      <td>0,27,405</td>\n",
       "      <td>NaN</td>\n",
       "      <td>...</td>\n",
       "      <td>17,0</td>\n",
       "      <td>17.0</td>\n",
       "      <td>0.0</td>\n",
       "      <td>NaN</td>\n",
       "      <td>NaN</td>\n",
       "      <td>NaN</td>\n",
       "      <td>0,0,748</td>\n",
       "      <td>NaN</td>\n",
       "      <td>NaN</td>\n",
       "      <td>NaN</td>\n",
       "    </tr>\n",
       "  </tbody>\n",
       "</table>\n",
       "<p>1 rows × 243 columns</p>\n",
       "</div>"
      ],
      "text/plain": [
       "                       ID BOSTON_CJD10_CJD10.GT BOSTON_CJD10_CJD10.AD  \\\n",
       "0  rs375757231;rs60722469                   C/C                  19,0   \n",
       "\n",
       "   BOSTON_CJD10_CJD10.DP  BOSTON_CJD10_CJD10.GQ  BOSTON_CJD10_CJD10.MIN_DP  \\\n",
       "0                   19.0                   27.0                        NaN   \n",
       "\n",
       "  BOSTON_CJD10_CJD10.PGT BOSTON_CJD10_CJD10.PID BOSTON_CJD10_CJD10.PL  \\\n",
       "0                    NaN                    NaN              0,27,405   \n",
       "\n",
       "   BOSTON_CJD10_CJD10.PS  ...  BOSTON_CJD9_CJD9.AD  BOSTON_CJD9_CJD9.DP  \\\n",
       "0                    NaN  ...                 17,0                 17.0   \n",
       "\n",
       "  BOSTON_CJD9_CJD9.GQ BOSTON_CJD9_CJD9.MIN_DP  BOSTON_CJD9_CJD9.PGT  \\\n",
       "0                 0.0                     NaN                   NaN   \n",
       "\n",
       "   BOSTON_CJD9_CJD9.PID  BOSTON_CJD9_CJD9.PL BOSTON_CJD9_CJD9.PS  \\\n",
       "0                   NaN              0,0,748                 NaN   \n",
       "\n",
       "  BOSTON_CJD9_CJD9.RGQ BOSTON_CJD9_CJD9.SB  \n",
       "0                  NaN                 NaN  \n",
       "\n",
       "[1 rows x 243 columns]"
      ]
     },
     "execution_count": 28,
     "metadata": {},
     "output_type": "execute_result"
    }
   ],
   "source": [
    "patient_data_subset.head(1)"
   ]
  },
  {
   "cell_type": "code",
   "execution_count": 29,
   "id": "ce8b480e",
   "metadata": {},
   "outputs": [],
   "source": [
    "## Get rid of characters after the sample name in the columns\n",
    "pds.columns = [col.split('.')[0] for col in pds.columns]"
   ]
  },
  {
   "cell_type": "code",
   "execution_count": 33,
   "id": "867dd832",
   "metadata": {},
   "outputs": [
    {
     "name": "stdout",
     "output_type": "stream",
     "text": [
      "                 Names\n",
      "0   BOSTON_CJD10_CJD10\n",
      "1   BOSTON_CJD11_CJD11\n",
      "2   BOSTON_CJD12_CJD12\n",
      "3   BOSTON_CJD13_CJD13\n",
      "4   BOSTON_CJD14_CJD14\n",
      "5   BOSTON_CJD16_CJD16\n",
      "6   BOSTON_CJD17_CJD17\n",
      "7   BOSTON_CJD18_CJD18\n",
      "8   BOSTON_CJD20_CJD20\n",
      "9   BOSTON_CJD22_CJD22\n",
      "10  BOSTON_CJD24_CJD24\n",
      "11  BOSTON_CJD25_CJD25\n",
      "12  BOSTON_CJD29_CJD29\n",
      "13    BOSTON_CJD2_CJD2\n",
      "14  BOSTON_CJD32_CJD32\n",
      "15  BOSTON_CJD33_CJD33\n",
      "16    BOSTON_CJD3_CJD3\n",
      "17  BOSTON_CJD40_CJD40\n",
      "18    BOSTON_CJD4_CJD4\n",
      "19    BOSTON_CJD5_CJD5\n",
      "20    BOSTON_CJD6_CJD6\n",
      "21    BOSTON_CJD9_CJD9\n"
     ]
    }
   ],
   "source": [
    "## This is where your patients file is created (upload this file under \"Patient\")\n",
    "\n",
    "\n",
    "patient_names = pds.columns[1:].unique()\n",
    "patientdf = pd.DataFrame(patient_names, columns=['Names'])\n",
    "print(patientdf)\n",
    "patientdf.to_csv('patients.csv', index=False)"
   ]
  },
  {
   "cell_type": "code",
   "execution_count": 34,
   "id": "32c7b113",
   "metadata": {},
   "outputs": [],
   "source": [
    "patient1_sub = pds.iloc[:, 1:12]"
   ]
  },
  {
   "cell_type": "code",
   "execution_count": 35,
   "id": "58d507de",
   "metadata": {
    "scrolled": false
   },
   "outputs": [],
   "source": [
    "# Please specify the number of patients in your sample by setting patient_num equal to it\n",
    "patient_num = 22\n",
    "y = 12\n",
    "x = 23\n",
    "patient = []\n",
    "patient = [patient1_sub]\n",
    "\n",
    "## Create List of Subsetted Patient Variant Data\n",
    "for i in range(1,patient_num):\n",
    "    patient.append(pds.iloc[:, y:x])\n",
    "    y = y + 11\n",
    "    x = x + 11"
   ]
  },
  {
   "cell_type": "code",
   "execution_count": 36,
   "id": "08820192",
   "metadata": {},
   "outputs": [],
   "source": [
    "## Create filenames for each patient subset to later make the files\n",
    "filenames = []\n",
    "for i in range(1, patient_num+1):\n",
    "    filename = 'patient' + str(i) + '.csv'\n",
    "    filenames.append(filename)"
   ]
  },
  {
   "cell_type": "code",
   "execution_count": 37,
   "id": "2f0fd1db",
   "metadata": {},
   "outputs": [
    {
     "name": "stdout",
     "output_type": "stream",
     "text": [
      "['patient1.csv', 'patient2.csv', 'patient3.csv', 'patient4.csv', 'patient5.csv', 'patient6.csv', 'patient7.csv', 'patient8.csv', 'patient9.csv', 'patient10.csv', 'patient11.csv', 'patient12.csv', 'patient13.csv', 'patient14.csv', 'patient15.csv', 'patient16.csv', 'patient17.csv', 'patient18.csv', 'patient19.csv', 'patient20.csv', 'patient21.csv', 'patient22.csv']\n"
     ]
    }
   ],
   "source": [
    "print(filenames)"
   ]
  },
  {
   "cell_type": "code",
   "execution_count": 38,
   "id": "daf7b216",
   "metadata": {},
   "outputs": [
    {
     "name": "stdout",
     "output_type": "stream",
     "text": [
      "0\n",
      "1\n",
      "2\n",
      "3\n",
      "4\n",
      "5\n",
      "6\n",
      "7\n",
      "8\n",
      "9\n",
      "10\n",
      "11\n",
      "12\n",
      "13\n",
      "14\n",
      "15\n",
      "16\n",
      "17\n",
      "18\n",
      "19\n",
      "20\n",
      "21\n"
     ]
    }
   ],
   "source": [
    "## This creates your patient-variant-data files to upload one at a time\n",
    "\n",
    "\n",
    "for i in range(patient_num):\n",
    "    print(i)\n",
    "    patient[i].to_csv(filenames[i], index=False)"
   ]
  },
  {
   "cell_type": "code",
   "execution_count": null,
   "id": "4f8586d5",
   "metadata": {},
   "outputs": [],
   "source": [
    "## ANNOTATIONS\n",
    "## The following code will create your data to be uploaded as Annotations\n",
    "\n",
    "df = df[['ID', 'ANN']]\n",
    "\n",
    "df.to_csv(\"annotations.csv\", index=FALSE)"
   ]
  }
 ],
 "metadata": {
  "kernelspec": {
   "display_name": "Python 3 (ipykernel)",
   "language": "python",
   "name": "python3"
  },
  "language_info": {
   "codemirror_mode": {
    "name": "ipython",
    "version": 3
   },
   "file_extension": ".py",
   "mimetype": "text/x-python",
   "name": "python",
   "nbconvert_exporter": "python",
   "pygments_lexer": "ipython3",
   "version": "3.10.9"
  }
 },
 "nbformat": 4,
 "nbformat_minor": 5
}
